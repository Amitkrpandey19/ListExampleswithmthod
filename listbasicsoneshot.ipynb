{
 "cells": [
  {
   "cell_type": "code",
   "execution_count": 1,
   "id": "d39f9e38-5698-49c4-b679-881cb0e536a2",
   "metadata": {},
   "outputs": [
    {
     "name": "stdout",
     "output_type": "stream",
     "text": [
      "[1, 2, 3, 'Amit', 'Ragini']\n"
     ]
    }
   ],
   "source": [
    "##list is the colletion of ordered items\n",
    "l=[1,2,3,\"Amit\",\"Ragini\"]\n",
    "print(l)"
   ]
  },
  {
   "cell_type": "code",
   "execution_count": 5,
   "id": "2de92b6e-f33f-471e-96a3-87c711e07f11",
   "metadata": {},
   "outputs": [
    {
     "name": "stdout",
     "output_type": "stream",
     "text": [
      "<class 'list'>\n"
     ]
    }
   ],
   "source": [
    "#Usiong the type method, we can identify the data type\n",
    "print(type(l))"
   ]
  },
  {
   "cell_type": "code",
   "execution_count": 10,
   "id": "2d597729-d0e0-4f64-8c61-315179245905",
   "metadata": {},
   "outputs": [
    {
     "name": "stdout",
     "output_type": "stream",
     "text": [
      "1\n",
      "3\n",
      "Ragini\n",
      "printing the lenght of list items stored in l\n",
      "5\n"
     ]
    }
   ],
   "source": [
    "## there is difference between index and lengh \n",
    "print(l[0])\n",
    "#print the value through indexing which is starts from zero,one , two\n",
    "print(l[2])\n",
    "print(l[4])\n",
    "print(\"printing the lenght of list items stored in l\")\n",
    "print(len(l))"
   ]
  },
  {
   "cell_type": "code",
   "execution_count": 11,
   "id": "6d07cf3c-a1a2-4ad2-b6d0-633cd298aac6",
   "metadata": {},
   "outputs": [
    {
     "name": "stdout",
     "output_type": "stream",
     "text": [
      "3\n"
     ]
    }
   ],
   "source": [
    "#lets talk about negative indexing\n",
    "print(l[-3])"
   ]
  },
  {
   "cell_type": "code",
   "execution_count": 13,
   "id": "0301665c-ee32-465c-af81-d16716cac674",
   "metadata": {},
   "outputs": [
    {
     "name": "stdout",
     "output_type": "stream",
     "text": [
      "3\n"
     ]
    }
   ],
   "source": [
    "#how to use negative indexing in positive way in our programs\n",
    "print(l[len(l)-3])"
   ]
  },
  {
   "cell_type": "code",
   "execution_count": 14,
   "id": "935adcfc-c9c0-46d1-b6ba-0d27816d8ab3",
   "metadata": {},
   "outputs": [
    {
     "name": "stdout",
     "output_type": "stream",
     "text": [
      "Amit\n"
     ]
    }
   ],
   "source": [
    "print(l[len(l)-2])"
   ]
  },
  {
   "cell_type": "code",
   "execution_count": 17,
   "id": "34f115c4-a0f2-4cfe-8744-93eb7b0f38c3",
   "metadata": {},
   "outputs": [
    {
     "name": "stdout",
     "output_type": "stream",
     "text": [
      "Yes\n"
     ]
    }
   ],
   "source": [
    "#items available in list\n",
    "if 3 in l:\n",
    "    print(\"Yes\")\n",
    "else:\n",
    "    print(\"NO\")"
   ]
  },
  {
   "cell_type": "code",
   "execution_count": 18,
   "id": "e6ae5030-ed44-4c9b-a9f4-155244d33493",
   "metadata": {},
   "outputs": [
    {
     "name": "stdout",
     "output_type": "stream",
     "text": [
      "No\n"
     ]
    }
   ],
   "source": [
    "#above program we are using in keyword to find the list items and also we can retrieve from the strings\n",
    "if \"3\" in l:\n",
    "    print(\"Yes\")\n",
    "else:\n",
    "    print(\"No\")\n",
    "    #it execute the else command beacause 3 is integer not a string "
   ]
  },
  {
   "cell_type": "code",
   "execution_count": 30,
   "id": "3f5d1064-e0bc-4398-85b3-633bf55c65b1",
   "metadata": {},
   "outputs": [
    {
     "name": "stdout",
     "output_type": "stream",
     "text": [
      "Yes\n",
      "Yes\n",
      "Yes\n",
      "Yes\n",
      "Yes\n"
     ]
    }
   ],
   "source": [
    "# string example\n",
    "for i in l:\n",
    "    if \"am\" in \"amit\":\n",
    "        print(\"Yes\")\n",
    "    else:\n",
    "        print(\"No\")"
   ]
  },
  {
   "cell_type": "code",
   "execution_count": 32,
   "id": "31e790fd-ed5e-4394-ada6-517f114adb02",
   "metadata": {},
   "outputs": [
    {
     "name": "stdout",
     "output_type": "stream",
     "text": [
      "[1, 2, 3, 'Amit', 'Ragini']\n"
     ]
    }
   ],
   "source": [
    "print(l)"
   ]
  },
  {
   "cell_type": "code",
   "execution_count": 37,
   "id": "6ed4298f-07f4-4dd7-ae8a-4ddee113ca59",
   "metadata": {},
   "outputs": [
    {
     "name": "stdout",
     "output_type": "stream",
     "text": [
      "['Amit', 'Ragini']\n"
     ]
    }
   ],
   "source": [
    "#slicing-I will tell you about the slice function syntax like slice(start,end,step)\n",
    "#default start is 0 and step is 1\n",
    "print(l[3:5])"
   ]
  },
  {
   "cell_type": "code",
   "execution_count": 96,
   "id": "66087eca-0bf3-43fc-9234-86e3d467ec57",
   "metadata": {},
   "outputs": [
    {
     "name": "stdout",
     "output_type": "stream",
     "text": [
      "2 \t 2\n",
      "4 \t 6\n",
      "34 \t 40\n",
      "12 \t 52\n"
     ]
    }
   ],
   "source": [
    "#it will skip the value like and jump\n",
    "m=[1,2,3,4,23,15,34,12]\n",
    "#print(m)\n",
    "#print(m[:8:3])\n",
    "n=input(\"Enter the number\")\n",
    "s=0\n",
    "for i in m:\n",
    "    if i%2==0:\n",
    "        s=s+i\n",
    "        print(i,\"\\t\",s)\n",
    "    #print(s)"
   ]
  },
  {
   "cell_type": "code",
   "execution_count": 93,
   "id": "fa8de42a-a137-4c30-95c1-a16a86d41d7a",
   "metadata": {},
   "outputs": [
    {
     "name": "stdout",
     "output_type": "stream",
     "text": [
      "12\n",
      "12\n"
     ]
    }
   ],
   "source": [
    "#now lets use the list comprehension\n",
    "# like we are creating the list items dynamically here\n",
    "s=0\n",
    "number= [i for i in range(10)]\n",
    "s=s+i\n",
    "print(i)\n",
    "print(s)\n",
    "#print(number[i])\n"
   ]
  },
  {
   "cell_type": "code",
   "execution_count": null,
   "id": "20c6a98f-d591-4e56-9ae7-56bc4240ad5c",
   "metadata": {},
   "outputs": [],
   "source": []
  },
  {
   "cell_type": "code",
   "execution_count": null,
   "id": "39c26605-4987-4cd5-bbcf-e3aa187798c0",
   "metadata": {},
   "outputs": [],
   "source": []
  }
 ],
 "metadata": {
  "kernelspec": {
   "display_name": "Python 3 (ipykernel)",
   "language": "python",
   "name": "python3"
  },
  "language_info": {
   "codemirror_mode": {
    "name": "ipython",
    "version": 3
   },
   "file_extension": ".py",
   "mimetype": "text/x-python",
   "name": "python",
   "nbconvert_exporter": "python",
   "pygments_lexer": "ipython3",
   "version": "3.10.8"
  }
 },
 "nbformat": 4,
 "nbformat_minor": 5
}
