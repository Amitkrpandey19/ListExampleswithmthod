{
 "cells": [
  {
   "cell_type": "code",
   "execution_count": 1,
   "id": "cf5452c7-abbd-40be-9ddd-92ea8cbc3364",
   "metadata": {},
   "outputs": [
    {
     "name": "stdin",
     "output_type": "stream",
     "text": [
      "Enter the number 5\n"
     ]
    },
    {
     "name": "stdout",
     "output_type": "stream",
     "text": [
      "the number is 2.23606797749979\n"
     ]
    }
   ],
   "source": [
    "#find the sqrt number\n",
    "num=float(input(\"Enter the number\"))\n",
    "sqrt_num=num**.5\n",
    "print(\"the number is\",sqrt_num)"
   ]
  },
  {
   "cell_type": "code",
   "execution_count": 2,
   "id": "0fe9aa42-7f5a-480f-b903-58ace937d524",
   "metadata": {},
   "outputs": [
    {
     "name": "stdout",
     "output_type": "stream",
     "text": [
      "[1, 2, 3]\n"
     ]
    }
   ],
   "source": [
    "numbers=[1,2,3]\n",
    "print(numbers)"
   ]
  },
  {
   "cell_type": "code",
   "execution_count": 3,
   "id": "54f89b97-96ea-4650-9a42-b704dc6fa6d5",
   "metadata": {},
   "outputs": [
    {
     "name": "stdout",
     "output_type": "stream",
     "text": [
      "[1, 'hello', 3.4]\n"
     ]
    }
   ],
   "source": [
    "#emplty list\n",
    "mylist=[]\n",
    "#listwithmixeddatatypes\n",
    "mylist=[1,\"hello\",3.4]\n",
    "print(mylist)"
   ]
  },
  {
   "cell_type": "code",
   "execution_count": 4,
   "id": "bc64abb4-04f9-45ba-820b-bd584f48050d",
   "metadata": {},
   "outputs": [
    {
     "ename": "NameError",
     "evalue": "name 'dtype' is not defined",
     "output_type": "error",
     "traceback": [
      "\u001b[0;31m---------------------------------------------------------------------------\u001b[0m",
      "\u001b[0;31mNameError\u001b[0m                                 Traceback (most recent call last)",
      "Cell \u001b[0;32mIn[4], line 1\u001b[0m\n\u001b[0;32m----> 1\u001b[0m \u001b[43mdtype\u001b[49m(mylist)\n",
      "\u001b[0;31mNameError\u001b[0m: name 'dtype' is not defined"
     ]
    }
   ],
   "source": [
    "dtype(mylist)"
   ]
  },
  {
   "cell_type": "code",
   "execution_count": null,
   "id": "de7f6d31-7061-4ae6-a666-a860b7758706",
   "metadata": {},
   "outputs": [],
   "source": [
    "dytype(mylist)"
   ]
  },
  {
   "cell_type": "code",
   "execution_count": null,
   "id": "7d48325d-f2dd-42b7-ab42-55dfa07756b2",
   "metadata": {},
   "outputs": [],
   "source": [
    "#we can access the element from list\n",
    "fruit_list=[\"Apple\",\"Orange\",\"Pomegranates\"]\n",
    "print(fruit_list[0])\n",
    "print(fruit_list[2])"
   ]
  },
  {
   "cell_type": "code",
   "execution_count": null,
   "id": "b6a6b501-8811-4558-92e9-577df123c442",
   "metadata": {},
   "outputs": [],
   "source": [
    "fmcgstock=[\"ITC\",\"VBL\",\"Brittania\"]\n",
    "print(fmcgstock[1])\n",
    "print(fmcgstock[2])"
   ]
  },
  {
   "cell_type": "code",
   "execution_count": null,
   "id": "33b52f6d-4c15-40fb-b0e9-58e5ea8da95a",
   "metadata": {},
   "outputs": [],
   "source": [
    "# We can access the list items in reverse order also\n",
    "fruitlist=[\"Apple\",\"Orange\"]\n",
    "print(fruitlist[-3])"
   ]
  },
  {
   "cell_type": "code",
   "execution_count": null,
   "id": "054775ff-730f-45c8-a50f-c1336e76d175",
   "metadata": {},
   "outputs": [],
   "source": [
    "#list slicing examples\n",
    "numbers=[1,2,3,4,5,6]\n",
    "print(numbers[1:3])"
   ]
  },
  {
   "cell_type": "code",
   "execution_count": null,
   "id": "61c1cb9c-2642-42c7-83fa-270c31cc9602",
   "metadata": {},
   "outputs": [],
   "source": [
    "#list slicing examples\n",
    "numbers=[1,2,3,4,5,6]\n",
    "#items from index to end\n",
    "print(numbers[3:])\n",
    "#items from begining to end\n",
    "print(numbers[:])\n",
    "for i in (numbers):\n",
    "    print(i)"
   ]
  },
  {
   "cell_type": "code",
   "execution_count": 23,
   "id": "058b0311-1b76-42b2-816b-34e9b6541b6c",
   "metadata": {},
   "outputs": [
    {
     "name": "stdout",
     "output_type": "stream",
     "text": [
      "['Adani_Power', 'Adani_Port', 'Adani_Enterprise', 'Adani_Green']\n",
      "['Adani_Power', 'Adani_Port', 'Adani_Enterprise', 'Adani_Green', 'Adani_Totalgas']\n",
      "['Adani_Power', 'Adani_Port', 'Adani_Enterprise', 'Adani_Green', 'Adani_Totalgas', 'Tatamotors', 'Tatapower']\n",
      "['Adani_Power', 'Adani_Port', 'Amit', 'Adani_Green', 'Adani_Totalgas', 'Tatamotors', 'Tatapower']\n",
      "['Adani_Power', 'Adani_Port', 'Adani_Green', 'Adani_Totalgas', 'Tatamotors', 'Tatapower']\n",
      "['Adani_Power', 'Adani_Totalgas', 'Tatamotors', 'Tatapower']\n",
      "['Adani_Power', 'Adani_Totalgas', 'Tatamotors']\n",
      "['Adani_Power', 'Amit', 'Adani_Totalgas', 'Tatamotors']\n",
      "['Tatamotors', 'Adani_Totalgas', 'Amit', 'Adani_Power']\n"
     ]
    }
   ],
   "source": [
    "Stocklist=[\"Adani_Power\",\"Adani_Port\",\"Adani_Enterprise\",\"Adani_Green\"]\n",
    "print(Stocklist)\n",
    "Stocklist.append(\"Adani_Totalgas\")\n",
    "print(Stocklist)\n",
    "tatastock=[\"Tatamotors\",\"Tatapower\"]\n",
    "#aading to list items\n",
    "Stocklist.extend(tatastock)\n",
    "print(Stocklist)\n",
    "#changing the list items\n",
    "Stocklist[2]='Amit'\n",
    "print(Stocklist)\n",
    "del Stocklist[-5]\n",
    "print(Stocklist)\n",
    "del Stocklist[1:3]\n",
    "print(Stocklist)\n",
    "Stocklist.remove('Tatapower')\n",
    "print(Stocklist)\n",
    "Stocklist.insert(1,'Amit')\n",
    "print(Stocklist)\n",
    "Stocklist.reverse()\n",
    "print(Stocklist)\n"
   ]
  },
  {
   "cell_type": "code",
   "execution_count": null,
   "id": "318f8a99-0e21-433e-a2e4-c19f456f29b5",
   "metadata": {},
   "outputs": [],
   "source": []
  }
 ],
 "metadata": {
  "kernelspec": {
   "display_name": "Python 3 (ipykernel)",
   "language": "python",
   "name": "python3"
  },
  "language_info": {
   "codemirror_mode": {
    "name": "ipython",
    "version": 3
   },
   "file_extension": ".py",
   "mimetype": "text/x-python",
   "name": "python",
   "nbconvert_exporter": "python",
   "pygments_lexer": "ipython3",
   "version": "3.10.8"
  }
 },
 "nbformat": 4,
 "nbformat_minor": 5
}
